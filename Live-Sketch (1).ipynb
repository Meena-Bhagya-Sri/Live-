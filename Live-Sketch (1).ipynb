{
 "cells": [
  {
   "cell_type": "code",
   "execution_count": 1,
   "id": "6666fdf2-35c7-4aeb-b276-3a66f76f5ba4",
   "metadata": {},
   "outputs": [],
   "source": [
    "import cv2\n",
    "import numpy as np\n"
   ]
  },
  {
   "cell_type": "code",
   "execution_count": null,
   "id": "12217c7b-4eb6-41d7-ba10-9204f09cc510",
   "metadata": {},
   "outputs": [],
   "source": [
    "#function to take an image from webcam and detecting edges\n",
    "def sketch(image):\n",
    "    img_gray = cv2.cvtColor(image,cv2.COLOR_BGR2GRAY)#CONVERTING IMAGE TO GRAYSCALE\n",
    "    #Cleaning the image using Gaussian Blur\n",
    "    img_blur = cv2.GaussianBlur(img_gray , (5,5),0)\n",
    "    #Extract edges\n",
    "    canny = cv2.Canny(img_blur , 30 , 70)\n",
    "    #converting grayscale image to binary using Threshold\n",
    "    ret, thresh = cv2.threshold(canny , 25 ,25,cv2.THRESH_BINARY_INV)\n",
    "\n",
    "    return thresh\n",
    "    "
   ]
  },
  {
   "cell_type": "code",
   "execution_count": null,
   "id": "74ae94e6-7717-48aa-8fc4-0d4a7dd47085",
   "metadata": {},
   "outputs": [],
   "source": [
    "#Initialize webcam\n",
    "cap = cv2.VideoCapture(0)\n",
    "while True:\n",
    "    ret , frame = cap.read()# ret is a boolean value wheather the image is captured or not\n",
    "    cv2.imshow('Live Sketch',sketch(frame))\n",
    "    if cv2.waitKey(1) == 13:#13 is enter key\n",
    "     break\n",
    "cap.release()\n",
    "cv2.destroyAllWindows()\n",
    "    \n",
    "    "
   ]
  }
 ],
 "metadata": {
  "kernelspec": {
   "display_name": "Python 3 (ipykernel)",
   "language": "python",
   "name": "python3"
  },
  "language_info": {
   "codemirror_mode": {
    "name": "ipython",
    "version": 3
   },
   "file_extension": ".py",
   "mimetype": "text/x-python",
   "name": "python",
   "nbconvert_exporter": "python",
   "pygments_lexer": "ipython3",
   "version": "3.12.4"
  }
 },
 "nbformat": 4,
 "nbformat_minor": 5
}
